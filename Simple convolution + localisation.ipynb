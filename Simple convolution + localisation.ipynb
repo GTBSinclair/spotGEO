{
 "cells": [
  {
   "cell_type": "code",
   "execution_count": 4,
   "metadata": {},
   "outputs": [],
   "source": [
    "from __future__ import print_function;\n",
    "import cv2;\n",
    "import numpy as np;\n",
    "import matplotlib.pyplot as plt;\n",
    "from scipy.signal import convolve2d\n",
    "\n",
    "# Achieves close to 100% accuracy in predicting the x and y co-ordinates and the radius of randomly generated points"
   ]
  },
  {
   "cell_type": "code",
   "execution_count": 6,
   "metadata": {},
   "outputs": [],
   "source": [
    "def create_training_data():\n",
    "    l = 10000;\n",
    "    IMG_SIZE = 200;\n",
    "    X_train = np.zeros(shape=[l, IMG_SIZE, IMG_SIZE,1]);\n",
    "    Y_train = np.zeros(shape = [l,3]);\n",
    "    \n",
    "    for i in range(l):\n",
    "        rad = np.random.randint(1,2);\n",
    "        cx = np.random.randint(rad,IMG_SIZE-rad);\n",
    "        cy = np.random.randint(rad, IMG_SIZE-rad);\n",
    "        Y_train[i,0] = cx/IMG_SIZE;\n",
    "        Y_train[i,1] = cy/IMG_SIZE;\n",
    "        Y_train[i,2] = rad/IMG_SIZE;\n",
    "        blank_image = np.ones(shape=[IMG_SIZE, IMG_SIZE], dtype = np.uint8);\n",
    "        X_train[i,:,:,0] = cv2.circle(blank_image, (cx,cy), rad, 0, -1);\n",
    "        \n",
    "    return {'X_Train' : X_train, 'Y_train' : Y_train};\n",
    "\n",
    "training_data = create_training_data();"
   ]
  },
  {
   "cell_type": "code",
   "execution_count": 29,
   "metadata": {},
   "outputs": [
    {
     "name": "stdout",
     "output_type": "stream",
     "text": [
      "(200, 200)\n",
      "195 177 0\n"
     ]
    },
    {
     "data": {
      "image/png": "[encoded data removed]",
      "text/plain": [
       "<Figure size 432x288 with 1 Axes>"
      ]
     },
     "metadata": {
      "needs_background": "light"
     },
     "output_type": "display_data"
    }
   ],
   "source": [
    "# print(training_data['X_Train'].shape)\n",
    "# print(len(training_data['X_Train']))\n",
    "# plt.imshow(training_data['X_Train'][24].reshape(200,200))\n",
    "# # plt.grid()\n",
    "# 200*training_data['Y_train']\n",
    "\n",
    "IMG_SIZE = 200;\n",
    "rad = np.random.randint(0,1);\n",
    "cx = np.random.randint(rad,IMG_SIZE-rad);\n",
    "cy = np.random.randint(rad, IMG_SIZE-rad);\n",
    "blank_image = np.ones(shape = [IMG_SIZE, IMG_SIZE], dtype = np.uint8);\n",
    "new_img = cv2.circle(blank_image, (cx,cy), rad, 0, -1);\n",
    "\n",
    "plt.imshow(new_img)\n",
    "print(np.shape(new_img))\n",
    "print(cx,cy,rad)"
   ]
  },
  {
   "cell_type": "code",
   "execution_count": 30,
   "metadata": {},
   "outputs": [
    {
     "name": "stdout",
     "output_type": "stream",
     "text": [
      "(3, 3)\n"
     ]
    },
    {
     "data": {
      "image/png": "[encoded data removed]",
      "text/plain": [
       "<Figure size 432x288 with 1 Axes>"
      ]
     },
     "metadata": {
      "needs_background": "light"
     },
     "output_type": "display_data"
    }
   ],
   "source": [
    "kernel = np.array([[2,2,2],[2,-20,2],[2,2,2]])\n",
    "plt.imshow(kernel)\n",
    "print(kernel.shape)"
   ]
  },
  {
   "cell_type": "code",
   "execution_count": 31,
   "metadata": {},
   "outputs": [
    {
     "data": {
      "text/plain": [
       "<matplotlib.image.AxesImage at 0x236def52ec8>"
      ]
     },
     "execution_count": 31,
     "metadata": {},
     "output_type": "execute_result"
    },
    {
     "data": {
      "image/png": "[encoded data removed]",
      "text/plain": [
       "<Figure size 432x288 with 1 Axes>"
      ]
     },
     "metadata": {
      "needs_background": "light"
     },
     "output_type": "display_data"
    }
   ],
   "source": [
    "# for h in range(len(training_data['X_Train'])):\n",
    "# img = convolve2d(training_data['X_Train'][24].reshape(200,200), kernel)\n",
    "\n",
    "img = convolve2d(new_img, kernel)\n",
    "plt.imshow(img)"
   ]
  },
  {
   "cell_type": "code",
   "execution_count": 32,
   "metadata": {},
   "outputs": [],
   "source": [
    "coordinates = [];\n",
    "\n",
    "for i in range(len(img)):\n",
    "    for j in range(len(img)):\n",
    "        if i > 5 and i < 197:\n",
    "            if j > 5 and j < 197:\n",
    "                if img[i][j] > 4:\n",
    "                    coordinates.append([i,j])"
   ]
  },
  {
   "cell_type": "code",
   "execution_count": 33,
   "metadata": {},
   "outputs": [
    {
     "name": "stdout",
     "output_type": "stream",
     "text": [
      "0\n",
      "0\n",
      "195.0 177.0 0.0\n"
     ]
    }
   ],
   "source": [
    "x_coord = []\n",
    "y_coord = []\n",
    "for i in range(len(coordinates)):\n",
    "    x_coord.append(coordinates[i][0])\n",
    "    y_coord.append(coordinates[i][1])\n",
    "    \n",
    "print(max(x_coord)-min(x_coord))\n",
    "print(max(y_coord)-min(y_coord))\n",
    "\n",
    "radius_x = (max(x_coord)-min(x_coord))/2\n",
    "radius_y = (max(y_coord)-min(y_coord))/2\n",
    "center_x = min(x_coord)+radius_x-1\n",
    "center_y = min(y_coord)+radius_y-1\n",
    "print(center_y,center_x,radius_x)"
   ]
  },
  {
   "cell_type": "code",
   "execution_count": 34,
   "metadata": {},
   "outputs": [
    {
     "name": "stdout",
     "output_type": "stream",
     "text": [
      "195 177 0\n"
     ]
    }
   ],
   "source": [
    "print(cx,cy,rad)"
   ]
  },
  {
   "cell_type": "code",
   "execution_count": null,
   "metadata": {},
   "outputs": [],
   "source": []
  },
  {
   "cell_type": "code",
   "execution_count": null,
   "metadata": {},
   "outputs": [],
   "source": []
  }
 ],
 "metadata": {
  "kernelspec": {
   "display_name": "Python 3",
   "language": "python",
   "name": "python3"
  },
  "language_info": {
   "codemirror_mode": {
    "name": "ipython",
    "version": 3
   },
   "file_extension": ".py",
   "mimetype": "text/x-python",
   "name": "python",
   "nbconvert_exporter": "python",
   "pygments_lexer": "ipython3",
   "version": "3.7.4"
  }
 },
 "nbformat": 4,
 "nbformat_minor": 2
}
