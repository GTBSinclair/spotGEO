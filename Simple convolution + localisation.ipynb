{
 "cells": [
  {
   "cell_type": "code",
   "execution_count": 22,
   "metadata": {},
   "outputs": [],
   "source": [
    "from __future__ import print_function;\n",
    "import cv2;\n",
    "import numpy as np;\n",
    "import matplotlib.pyplot as plt;\n",
    "from scipy.signal import convolve2d\n",
    "\n",
    "# Achieves close to 100% accuracy in predicting the x and y co-ordinates and the radius of randomly generated points"
   ]
  },
  {
   "cell_type": "code",
   "execution_count": 23,
   "metadata": {},
   "outputs": [],
   "source": [
    "def create_training_data():\n",
    "    l = 10000;\n",
    "    X_train = np.zeros(shape=[l, IMG_SIZE, IMG_SIZE,1]);\n",
    "    Y_train = np.zeros(shape = [l,3]);\n",
    "    \n",
    "    for i in range(l):\n",
    "        rad = random.randint(1,1);\n",
    "        cx = random.randint(rad,IMG_SIZE-rad);\n",
    "        cy = random.randint(rad, IMG_SIZE-rad);\n",
    "        Y_train[i,0] = cx/IMG_SIZE;\n",
    "        Y_train[i,1] = cy/IMG_SIZE;\n",
    "        Y_train[i,2] = rad/IMG_SIZE;\n",
    "        blank_image = np.ones(shape=[IMG_SIZE, IMG_SIZE], dtype = np.uint8);\n",
    "        X_train[i,:,:,0] = cv2.circle(blank_image, (cx,cy), rad, 0, -1);\n",
    "        \n",
    "    return {'X_Train' : X_train, 'Y_train' : Y_train};\n",
    "\n",
    "training_data = create_training_data();"
   ]
  },
  {
   "cell_type": "code",
   "execution_count": 259,
   "metadata": {},
   "outputs": [
    {
     "name": "stdout",
     "output_type": "stream",
     "text": [
      "(200, 200)\n",
      "165 62 26\n"
     ]
    },
    {
     "data": {
      "image/png": "[encoded data removed]",
      "text/plain": [
       "<Figure size 432x288 with 1 Axes>"
      ]
     },
     "metadata": {
      "needs_background": "light"
     },
     "output_type": "display_data"
    }
   ],
   "source": [
    "# print(training_data['X_Train'].shape)\n",
    "# print(len(training_data['X_Train']))\n",
    "# plt.imshow(training_data['X_Train'][24].reshape(200,200))\n",
    "# # plt.grid()\n",
    "# 200*training_data['Y_train']\n",
    "\n",
    "\n",
    "IMG_SIZE = 200;\n",
    "rad = random.randint(1,53);\n",
    "cx = random.randint(rad,IMG_SIZE-rad);\n",
    "cy = random.randint(rad, IMG_SIZE-rad);\n",
    "blank_image = np.ones(shape = [IMG_SIZE, IMG_SIZE], dtype = np.uint8);\n",
    "new_img = cv2.circle(blank_image, (cx,cy), rad, 0, -1);\n",
    "\n",
    "plt.imshow(new_img)\n",
    "print(np.shape(new_img))\n",
    "print(cx,cy,rad)"
   ]
  },
  {
   "cell_type": "code",
   "execution_count": 260,
   "metadata": {},
   "outputs": [
    {
     "name": "stdout",
     "output_type": "stream",
     "text": [
      "(3, 3)\n"
     ]
    },
    {
     "data": {
      "image/png": "[encoded data removed]",
      "text/plain": [
       "<Figure size 432x288 with 1 Axes>"
      ]
     },
     "metadata": {
      "needs_background": "light"
     },
     "output_type": "display_data"
    }
   ],
   "source": [
    "kernel = np.array([[2,2,2],[2,-20,2],[2,2,2]])\n",
    "plt.imshow(kernel)\n",
    "print(kernel.shape)"
   ]
  },
  {
   "cell_type": "code",
   "execution_count": 261,
   "metadata": {},
   "outputs": [
    {
     "data": {
      "text/plain": [
       "<matplotlib.image.AxesImage at 0x1514ca5a948>"
      ]
     },
     "execution_count": 261,
     "metadata": {},
     "output_type": "execute_result"
    },
    {
     "data": {
      "image/png": "[encoded data removed]",
      "text/plain": [
       "<Figure size 432x288 with 1 Axes>"
      ]
     },
     "metadata": {
      "needs_background": "light"
     },
     "output_type": "display_data"
    }
   ],
   "source": [
    "# for h in range(len(training_data['X_Train'])):\n",
    "# img = convolve2d(training_data['X_Train'][24].reshape(200,200), kernel)\n",
    "\n",
    "img = convolve2d(new_img, kernel)\n",
    "plt.imshow(img)"
   ]
  },
  {
   "cell_type": "code",
   "execution_count": 262,
   "metadata": {},
   "outputs": [
    {
     "name": "stdout",
     "output_type": "stream",
     "text": [
      "37 166\n",
      "10\n",
      "38 159\n",
      "8\n",
      "38 160\n",
      "6\n",
      "38 161\n",
      "6\n",
      "38 162\n",
      "6\n",
      "38 163\n",
      "6\n",
      "38 164\n",
      "6\n",
      "38 168\n",
      "6\n",
      "38 169\n",
      "6\n",
      "38 170\n",
      "6\n",
      "38 171\n",
      "6\n",
      "38 172\n",
      "6\n",
      "38 173\n",
      "8\n",
      "39 156\n",
      "8\n",
      "39 157\n",
      "6\n",
      "39 175\n",
      "6\n",
      "39 176\n",
      "8\n",
      "40 154\n",
      "8\n",
      "40 178\n",
      "8\n",
      "41 153\n",
      "6\n",
      "41 179\n",
      "6\n",
      "42 151\n",
      "8\n",
      "42 181\n",
      "8\n",
      "43 150\n",
      "6\n",
      "43 182\n",
      "6\n",
      "44 149\n",
      "6\n",
      "44 183\n",
      "6\n",
      "45 148\n",
      "6\n",
      "45 184\n",
      "6\n",
      "46 147\n",
      "6\n",
      "46 185\n",
      "6\n",
      "47 146\n",
      "6\n",
      "47 186\n",
      "6\n",
      "48 145\n",
      "8\n",
      "48 187\n",
      "8\n",
      "50 144\n",
      "6\n",
      "50 188\n",
      "6\n",
      "51 143\n",
      "8\n",
      "51 189\n",
      "8\n",
      "53 142\n",
      "8\n",
      "53 190\n",
      "8\n",
      "54 142\n",
      "6\n",
      "54 190\n",
      "6\n",
      "56 141\n",
      "8\n",
      "56 191\n",
      "8\n",
      "57 141\n",
      "6\n",
      "57 191\n",
      "6\n",
      "58 141\n",
      "6\n",
      "58 191\n",
      "6\n",
      "59 141\n",
      "6\n",
      "59 191\n",
      "6\n",
      "60 141\n",
      "6\n",
      "60 191\n",
      "6\n",
      "61 141\n",
      "6\n",
      "61 191\n",
      "6\n",
      "63 140\n",
      "10\n",
      "63 192\n",
      "10\n",
      "65 141\n",
      "6\n",
      "65 191\n",
      "6\n",
      "66 141\n",
      "6\n",
      "66 191\n",
      "6\n",
      "67 141\n",
      "6\n",
      "67 191\n",
      "6\n",
      "68 141\n",
      "6\n",
      "68 191\n",
      "6\n",
      "69 141\n",
      "6\n",
      "69 191\n",
      "6\n",
      "70 141\n",
      "8\n",
      "70 191\n",
      "8\n",
      "72 142\n",
      "6\n",
      "72 190\n",
      "6\n",
      "73 142\n",
      "8\n",
      "73 190\n",
      "8\n",
      "75 143\n",
      "8\n",
      "75 189\n",
      "8\n",
      "76 144\n",
      "6\n",
      "76 188\n",
      "6\n",
      "78 145\n",
      "8\n",
      "78 187\n",
      "8\n",
      "79 146\n",
      "6\n",
      "79 186\n",
      "6\n",
      "80 147\n",
      "6\n",
      "80 185\n",
      "6\n",
      "81 148\n",
      "6\n",
      "81 184\n",
      "6\n",
      "82 149\n",
      "6\n",
      "82 183\n",
      "6\n",
      "83 150\n",
      "6\n",
      "83 182\n",
      "6\n",
      "84 151\n",
      "8\n",
      "84 181\n",
      "8\n",
      "85 153\n",
      "6\n",
      "85 179\n",
      "6\n",
      "86 154\n",
      "8\n",
      "86 178\n",
      "8\n",
      "87 156\n",
      "8\n",
      "87 157\n",
      "6\n",
      "87 175\n",
      "6\n",
      "87 176\n",
      "8\n",
      "88 159\n",
      "8\n",
      "88 160\n",
      "6\n",
      "88 161\n",
      "6\n",
      "88 162\n",
      "6\n",
      "88 163\n",
      "6\n",
      "88 164\n",
      "6\n",
      "88 168\n",
      "6\n",
      "88 169\n",
      "6\n",
      "88 170\n",
      "6\n",
      "88 171\n",
      "6\n",
      "88 172\n",
      "6\n",
      "88 173\n",
      "8\n",
      "89 166\n",
      "10\n"
     ]
    }
   ],
   "source": [
    "coordinates = [];\n",
    "\n",
    "for i in range(len(img)):\n",
    "    for j in range(len(img)):\n",
    "        if i > 5 and i < 197:\n",
    "            if j > 5 and j < 197:\n",
    "                if img[i][j] > 4:\n",
    "                    print(i,j)\n",
    "                    print(img[i,j])\n",
    "                    coordinates.append([i,j])"
   ]
  },
  {
   "cell_type": "code",
   "execution_count": 263,
   "metadata": {},
   "outputs": [
    {
     "name": "stdout",
     "output_type": "stream",
     "text": [
      "52\n",
      "52\n",
      "26.0 62.0 165.0\n"
     ]
    }
   ],
   "source": [
    "x_coord = []\n",
    "y_coord = []\n",
    "for i in range(len(coordinates)):\n",
    "    x_coord.append(coordinates[i][0])\n",
    "    y_coord.append(coordinates[i][1])\n",
    "    \n",
    "print(max(x_coord)-min(x_coord))\n",
    "print(max(y_coord)-min(y_coord))\n",
    "\n",
    "radius_x = (max(x_coord)-min(x_coord))/2\n",
    "radius_y = (max(y_coord)-min(y_coord))/2\n",
    "center_x = min(x_coord)+radius_x-1\n",
    "center_y = min(y_coord)+radius_y-1\n",
    "print(radius_x,center_x,center_y)"
   ]
  },
  {
   "cell_type": "code",
   "execution_count": 264,
   "metadata": {},
   "outputs": [
    {
     "name": "stdout",
     "output_type": "stream",
     "text": [
      "165 62 26\n"
     ]
    }
   ],
   "source": [
    "print(cx,cy,rad)"
   ]
  },
  {
   "cell_type": "code",
   "execution_count": null,
   "metadata": {},
   "outputs": [],
   "source": []
  },
  {
   "cell_type": "code",
   "execution_count": null,
   "metadata": {},
   "outputs": [],
   "source": []
  }
 ],
 "metadata": {
  "kernelspec": {
   "display_name": "Python 3",
   "language": "python",
   "name": "python3"
  },
  "language_info": {
   "codemirror_mode": {
    "name": "ipython",
    "version": 3
   },
   "file_extension": ".py",
   "mimetype": "text/x-python",
   "name": "python",
   "nbconvert_exporter": "python",
   "pygments_lexer": "ipython3",
   "version": "3.7.4"
  }
 },
 "nbformat": 4,
 "nbformat_minor": 2
}
